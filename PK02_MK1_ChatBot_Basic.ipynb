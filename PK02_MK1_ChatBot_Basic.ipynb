{
  "nbformat": 4,
  "nbformat_minor": 0,
  "metadata": {
    "colab": {
      "provenance": [],
      "authorship_tag": "ABX9TyPJCyDgdjst6fowZZO3aY/l",
      "include_colab_link": true
    },
    "kernelspec": {
      "name": "python3",
      "display_name": "Python 3"
    },
    "language_info": {
      "name": "python"
    }
  },
  "cells": [
    {
      "cell_type": "markdown",
      "metadata": {
        "id": "view-in-github",
        "colab_type": "text"
      },
      "source": [
        "<a href=\"https://colab.research.google.com/github/hurt-chelar/NLP/blob/main/PK02_MK1_ChatBot_Basic.ipynb\" target=\"_parent\"><img src=\"https://colab.research.google.com/assets/colab-badge.svg\" alt=\"Open In Colab\"/></a>"
      ]
    },
    {
      "cell_type": "code",
      "execution_count": 39,
      "metadata": {
        "id": "_RqUdv8gWu9c",
        "colab": {
          "base_uri": "https://localhost:8080/"
        },
        "outputId": "67558305-d69c-4acb-f28c-5aa7fa6659ae"
      },
      "outputs": [
        {
          "output_type": "stream",
          "name": "stdout",
          "text": [
            "Looking in indexes: https://pypi.org/simple, https://us-python.pkg.dev/colab-wheels/public/simple/\n",
            "Requirement already satisfied: nltk in /usr/local/lib/python3.9/dist-packages (3.7)\n",
            "Requirement already satisfied: click in /usr/local/lib/python3.9/dist-packages (from nltk) (8.1.3)\n",
            "Requirement already satisfied: joblib in /usr/local/lib/python3.9/dist-packages (from nltk) (1.1.1)\n",
            "Requirement already satisfied: tqdm in /usr/local/lib/python3.9/dist-packages (from nltk) (4.65.0)\n",
            "Requirement already satisfied: regex>=2021.8.3 in /usr/local/lib/python3.9/dist-packages (from nltk) (2022.6.2)\n"
          ]
        }
      ],
      "source": [
        "import re \n",
        "import random\n",
        "\n",
        "import numpy as np\n",
        "import nltk\n",
        "import string \n",
        "\n",
        "import nltk \n",
        "\n",
        "!pip install nltk "
      ]
    },
    {
      "cell_type": "code",
      "source": [
        "f = open('/content/data.txt', 'r', errors='ignore')\n",
        "raw_doc = f.read() "
      ],
      "metadata": {
        "id": "icEDwR9xpFK4"
      },
      "execution_count": 27,
      "outputs": []
    },
    {
      "cell_type": "code",
      "source": [
        "raw_doc = raw_doc.lower()\n",
        "nltk.download('punkt') \n",
        "nltk.download('wordnet')\n",
        "nltk.download('omw-1.4') \n",
        "\n"
      ],
      "metadata": {
        "colab": {
          "base_uri": "https://localhost:8080/"
        },
        "id": "Y9qw5YaDhaqy",
        "outputId": "b6d82fac-1223-4a86-9b73-4c4675e27d82"
      },
      "execution_count": 28,
      "outputs": [
        {
          "output_type": "stream",
          "name": "stderr",
          "text": [
            "[nltk_data] Downloading package punkt to /root/nltk_data...\n",
            "[nltk_data]   Package punkt is already up-to-date!\n",
            "[nltk_data] Downloading package wordnet to /root/nltk_data...\n",
            "[nltk_data]   Package wordnet is already up-to-date!\n",
            "[nltk_data] Downloading package omw-1.4 to /root/nltk_data...\n",
            "[nltk_data]   Package omw-1.4 is already up-to-date!\n"
          ]
        },
        {
          "output_type": "execute_result",
          "data": {
            "text/plain": [
              "True"
            ]
          },
          "metadata": {},
          "execution_count": 28
        }
      ]
    },
    {
      "cell_type": "code",
      "source": [
        "sentence_tokens = nltk.sent_tokenize(raw_doc)"
      ],
      "metadata": {
        "id": "TZjLcnGkpCar"
      },
      "execution_count": 29,
      "outputs": []
    },
    {
      "cell_type": "code",
      "source": [
        "word_tokens = nltk.word_tokenize(raw_doc)\n",
        "word_tokens[:20]"
      ],
      "metadata": {
        "id": "VHvkpf9chlE0",
        "colab": {
          "base_uri": "https://localhost:8080/"
        },
        "outputId": "bc74f9d8-e031-4bb8-ea60-ccdd90750909"
      },
      "execution_count": 30,
      "outputs": [
        {
          "output_type": "execute_result",
          "data": {
            "text/plain": [
              "['jump',\n",
              " 'to',\n",
              " 'content',\n",
              " 'toggle',\n",
              " 'sidebar',\n",
              " 'wikipediathe',\n",
              " 'free',\n",
              " 'encyclopedia',\n",
              " 'create',\n",
              " 'account',\n",
              " 'log',\n",
              " 'in',\n",
              " 'personal',\n",
              " 'tools',\n",
              " 'photograph',\n",
              " 'your',\n",
              " 'local',\n",
              " 'culture',\n",
              " ',',\n",
              " 'help']"
            ]
          },
          "metadata": {},
          "execution_count": 30
        }
      ]
    },
    {
      "cell_type": "code",
      "source": [
        "lemmer = nltk.stem.WordNetLemmatizer() "
      ],
      "metadata": {
        "id": "ZlcYyCKMW2s-"
      },
      "execution_count": 31,
      "outputs": []
    },
    {
      "cell_type": "code",
      "source": [
        "def LemTokens(tokens): \n",
        "  return [lemmer.lemmatize(token) for token in tokens]\n",
        "remove_punc_dict = dict((ord(punct), None) for punct in string.punctuation )"
      ],
      "metadata": {
        "id": "14MRxBTKXxmg"
      },
      "execution_count": 32,
      "outputs": []
    },
    {
      "cell_type": "code",
      "source": [
        "def LemNormalize(text): \n",
        "  return LemTokens(nltk.word_tokenize(text.lower().translate(remove_punc_dict)))"
      ],
      "metadata": {
        "id": "sWzMKFbRX4xa"
      },
      "execution_count": 42,
      "outputs": []
    },
    {
      "cell_type": "code",
      "source": [
        "greet_inputs = (\"Hi\", \"How are you?\", \"Hope you're well\")\n",
        "greet_responses =(\"Hi There\", \"hey\", \"Hi\")\n",
        "\n",
        "def greet(sentence): \n",
        "  for word in sentence.split() : \n",
        "    if word.lower() in greet_inputs : \n",
        "      return random.choice(greet_responses)\n"
      ],
      "metadata": {
        "id": "Ce74dQj9ZsG5"
      },
      "execution_count": 34,
      "outputs": []
    },
    {
      "cell_type": "code",
      "source": [
        "from sklearn.feature_extraction.text import TfidfVectorizer \n",
        "from sklearn.metrics.pairwise import cosine_similarity "
      ],
      "metadata": {
        "id": "jdk_SgJVa8BR"
      },
      "execution_count": 35,
      "outputs": []
    },
    {
      "cell_type": "code",
      "source": [
        "def response(user_response):\n",
        "  robo1_response = \"\" \n",
        "  TfidfVec = TfidfVectorizer(tokenizer = LemNormalize, stop_words =\"english\")\n",
        "  tfidf = TfidfVec.fit_transform(sentence_tokens)\n",
        "  vals = cosine_similarity(tfidf[-1], tfidf)\n",
        "  idx = vals.argsort()[0][-2]\n",
        "  flat = vals.flatten()\n",
        "  flat.sort()\n",
        "  req_tfidf = flat[-2]\n",
        "  if(req_tfidf == 0):\n",
        "    robo1_response = robo1_response + \"I am sorry. Unable to understand you!\"\n",
        "    return robo1_response \n",
        "  else:\n",
        "    robo1_response = robo1_response+ sentence_tokens[idx]\n",
        "    return robo1_response"
      ],
      "metadata": {
        "id": "x2THLDSzbrTF"
      },
      "execution_count": 36,
      "outputs": []
    },
    {
      "cell_type": "code",
      "source": [],
      "metadata": {
        "id": "52H7BSwld-L1"
      },
      "execution_count": 36,
      "outputs": []
    },
    {
      "cell_type": "markdown",
      "source": [
        "Chat Bot\n"
      ],
      "metadata": {
        "id": "etes3DkitZbm"
      }
    },
    {
      "cell_type": "code",
      "source": [
        "flag = True\n",
        "print('Hello! I am the Retreival Learning Bot. Start typing your text after greeting to talk to me. For ending convo type bye!')\n",
        "while(flag == True):\n",
        "  user_response = input ()\n",
        "  user_response = user_response. lower ()\n",
        "  if (user_response != 'bye'):\n",
        "    if(user_response == 'thank you' or user_response == \"thanks\") :\n",
        "      flag = False\n",
        "      print( 'Bot: You are Welcome..')\n",
        "    else:\n",
        "      if(greet (user_response) != None) :\n",
        "        print( 'Bot '+ greet (user_response))\n",
        "      else:\n",
        "        sentence_tokens.append(user_response)\n",
        "        word_tokens = word_tokens + nltk.word_tokenize(user_response)\n",
        "        final_words = list(set(word_tokens))\n",
        "        print('Bot: ', end = \"\")\n",
        "        print(response(user_response))\n",
        "        sentence_tokens. remove (user_response)\n",
        "else:\n",
        "  flag = False\n",
        "  print ('Bot: Goodbye!')"
      ],
      "metadata": {
        "colab": {
          "base_uri": "https://localhost:8080/"
        },
        "id": "9UdnE7Lntag1",
        "outputId": "ab50c322-dfbe-4337-b087-c033c97e6b8a"
      },
      "execution_count": null,
      "outputs": [
        {
          "output_type": "stream",
          "name": "stdout",
          "text": [
            "Hello! I am the Retreival Learning Bot. Start typing your text after greeting to talk to me. For ending convo type bye!\n"
          ]
        }
      ]
    },
    {
      "cell_type": "code",
      "source": [],
      "metadata": {
        "id": "3WfmSZ92v0WA"
      },
      "execution_count": null,
      "outputs": []
    }
  ]
}