{
  "nbformat": 4,
  "nbformat_minor": 0,
  "metadata": {
    "colab": {
      "provenance": [],
      "authorship_tag": "ABX9TyPThde6Tyv0a/GnccHuhlw4",
      "include_colab_link": true
    },
    "kernelspec": {
      "name": "python3",
      "display_name": "Python 3"
    },
    "language_info": {
      "name": "python"
    }
  },
  "cells": [
    {
      "cell_type": "markdown",
      "metadata": {
        "id": "view-in-github",
        "colab_type": "text"
      },
      "source": [
        "<a href=\"https://colab.research.google.com/github/hurt-chelar/NLP/blob/main/PJ1_MK1_SentenceSimilarity_LEV.ipynb\" target=\"_parent\"><img src=\"https://colab.research.google.com/assets/colab-badge.svg\" alt=\"Open In Colab\"/></a>"
      ]
    },
    {
      "cell_type": "code",
      "execution_count": 88,
      "metadata": {
        "id": "8-Mf7FYAola6"
      },
      "outputs": [],
      "source": [
        "from functools import lru_cache\n",
        "\n",
        "def lev_dist(a, b):\n",
        "    '''\n",
        "    This function will calculate the levenshtein distance between two input\n",
        "    strings a and b\n",
        "    \n",
        "    params:\n",
        "        a (String) : The first string you want to compare\n",
        "        b (String) : The second string you want to compare\n",
        "        \n",
        "    returns:\n",
        "        This function will return the distnace between string a and b.\n",
        "        \n",
        "    example:\n",
        "        a = 'stamp'\n",
        "        b = 'stomp'\n",
        "        lev_dist(a,b)\n",
        "        >> 1.0\n",
        "    '''\n",
        "    \n",
        "    @lru_cache(None)  # for memorization\n",
        "    def min_dist(s1, s2):\n",
        "\n",
        "        if s1 == len(a) or s2 == len(b):\n",
        "            return len(a) - s1 + len(b) - s2\n",
        "\n",
        "        # no change required\n",
        "        if a[s1] == b[s2]:\n",
        "            return min_dist(s1 + 1, s2 + 1)\n",
        "\n",
        "        return 1 + min(\n",
        "            min_dist(s1, s2 + 1),      # insert character\n",
        "            min_dist(s1 + 1, s2),      # delete character\n",
        "            min_dist(s1 + 1, s2 + 1),  # replace character\n",
        "        )\n",
        "\n",
        "    return min_dist(0, 0)\n",
        "\n",
        "\n",
        "a = \"father\"\n",
        "b = \"father\"\n",
        "\n"
      ]
    },
    {
      "cell_type": "code",
      "source": [
        "lev_dist(a, b)"
      ],
      "metadata": {
        "colab": {
          "base_uri": "https://localhost:8080/"
        },
        "id": "-b3YuflApsuB",
        "outputId": "8c40c857-f3cd-425e-b122-9011d36d97aa"
      },
      "execution_count": 89,
      "outputs": [
        {
          "output_type": "execute_result",
          "data": {
            "text/plain": [
              "0"
            ]
          },
          "metadata": {},
          "execution_count": 89
        }
      ]
    },
    {
      "cell_type": "markdown",
      "source": [
        "The Above was the lev for words \n",
        "\n",
        "---\n",
        "\n"
      ],
      "metadata": {
        "id": "mOWNh8MVqXV_"
      }
    },
    {
      "cell_type": "code",
      "source": [
        "# SENTENCE "
      ],
      "metadata": {
        "id": "1O0Zw-ESqcXv"
      },
      "execution_count": 90,
      "outputs": []
    },
    {
      "cell_type": "code",
      "source": [
        "pip install python-Levenshtein"
      ],
      "metadata": {
        "colab": {
          "base_uri": "https://localhost:8080/"
        },
        "id": "_KQyOF1Eqrcx",
        "outputId": "8287387f-bf63-4d23-d671-e1908083170b"
      },
      "execution_count": 91,
      "outputs": [
        {
          "output_type": "stream",
          "name": "stdout",
          "text": [
            "Looking in indexes: https://pypi.org/simple, https://us-python.pkg.dev/colab-wheels/public/simple/\n",
            "Requirement already satisfied: python-Levenshtein in /usr/local/lib/python3.8/dist-packages (0.20.9)\n",
            "Requirement already satisfied: Levenshtein==0.20.9 in /usr/local/lib/python3.8/dist-packages (from python-Levenshtein) (0.20.9)\n",
            "Requirement already satisfied: rapidfuzz<3.0.0,>=2.3.0 in /usr/local/lib/python3.8/dist-packages (from Levenshtein==0.20.9->python-Levenshtein) (2.13.7)\n"
          ]
        }
      ]
    },
    {
      "cell_type": "code",
      "source": [
        "pip install wikipedia"
      ],
      "metadata": {
        "colab": {
          "base_uri": "https://localhost:8080/"
        },
        "id": "lXP_LV1kqr4u",
        "outputId": "aabd45b0-a8ba-4451-c507-e25399cd8e25"
      },
      "execution_count": 92,
      "outputs": [
        {
          "output_type": "stream",
          "name": "stdout",
          "text": [
            "Looking in indexes: https://pypi.org/simple, https://us-python.pkg.dev/colab-wheels/public/simple/\n",
            "Requirement already satisfied: wikipedia in /usr/local/lib/python3.8/dist-packages (1.4.0)\n",
            "Requirement already satisfied: requests<3.0.0,>=2.0.0 in /usr/local/lib/python3.8/dist-packages (from wikipedia) (2.25.1)\n",
            "Requirement already satisfied: beautifulsoup4 in /usr/local/lib/python3.8/dist-packages (from wikipedia) (4.6.3)\n",
            "Requirement already satisfied: idna<3,>=2.5 in /usr/local/lib/python3.8/dist-packages (from requests<3.0.0,>=2.0.0->wikipedia) (2.10)\n",
            "Requirement already satisfied: certifi>=2017.4.17 in /usr/local/lib/python3.8/dist-packages (from requests<3.0.0,>=2.0.0->wikipedia) (2022.12.7)\n",
            "Requirement already satisfied: urllib3<1.27,>=1.21.1 in /usr/local/lib/python3.8/dist-packages (from requests<3.0.0,>=2.0.0->wikipedia) (1.26.14)\n",
            "Requirement already satisfied: chardet<5,>=3.0.2 in /usr/local/lib/python3.8/dist-packages (from requests<3.0.0,>=2.0.0->wikipedia) (4.0.0)\n"
          ]
        }
      ]
    },
    {
      "cell_type": "code",
      "source": [
        "import string\n",
        "import Levenshtein as lev\n",
        "import wikipedia\n",
        "\n",
        "from nltk.corpus import stopwords\n",
        "\n",
        "\n",
        "user_article = \"who was the most powerful king of the mughal empire?\"  # This is the question? suppose let's say \n",
        "\n",
        "content = [\"the starting of the mughal empire was done by aurengzab, who went on to become the most powerful king of the mughal empire\", \"Arun was the second most powerful king of the mughal empire\", \"aurengzeb was know to be generous\", \"aurengzeb was loved by the people , even though he was a king\", \"i don't know what this man aurzegen is\" , \"there is nothing more to do thaan diea\", \"ayooo nothing is working\"]"
      ],
      "metadata": {
        "id": "pe97FKBGqwin"
      },
      "execution_count": 93,
      "outputs": []
    },
    {
      "cell_type": "code",
      "source": [
        "print(content[0])"
      ],
      "metadata": {
        "colab": {
          "base_uri": "https://localhost:8080/"
        },
        "id": "uQyP_I-6rT-K",
        "outputId": "926cf515-3003-4d96-e950-495962d05496"
      },
      "execution_count": 94,
      "outputs": [
        {
          "output_type": "stream",
          "name": "stdout",
          "text": [
            "the starting of the mughal empire was done by aurengzab, who went on to become the most powerful king of the mughal empire\n"
          ]
        }
      ]
    },
    {
      "cell_type": "code",
      "source": [
        "!pip install nltk \n",
        "import nltk \n"
      ],
      "metadata": {
        "colab": {
          "base_uri": "https://localhost:8080/"
        },
        "id": "iKxbjKJQrZhP",
        "outputId": "efc7305b-6ef1-4560-9c52-999bc74cd6a7"
      },
      "execution_count": 95,
      "outputs": [
        {
          "output_type": "stream",
          "name": "stdout",
          "text": [
            "Looking in indexes: https://pypi.org/simple, https://us-python.pkg.dev/colab-wheels/public/simple/\n",
            "Requirement already satisfied: nltk in /usr/local/lib/python3.8/dist-packages (3.7)\n",
            "Requirement already satisfied: click in /usr/local/lib/python3.8/dist-packages (from nltk) (8.1.3)\n",
            "Requirement already satisfied: tqdm in /usr/local/lib/python3.8/dist-packages (from nltk) (4.64.1)\n",
            "Requirement already satisfied: joblib in /usr/local/lib/python3.8/dist-packages (from nltk) (1.2.0)\n",
            "Requirement already satisfied: regex>=2021.8.3 in /usr/local/lib/python3.8/dist-packages (from nltk) (2022.6.2)\n"
          ]
        }
      ]
    },
    {
      "cell_type": "code",
      "source": [
        "\n",
        "# def remove_punctuations(txt, punct = string.punctuation):\n",
        "#     '''\n",
        "#     This function will remove punctuations from the input text\n",
        "#     '''\n",
        "#     return ''.join([c for c in txt if c not in punct])\n",
        "  \n",
        "# def remove_stopwords(txt, sw = list(stopwords.words('english'))):\n",
        "#     '''\n",
        "#     This function will remove the stopwords from the input txt\n",
        "#     '''\n",
        "#     return ' '.join([w for w in txt.split() if w.lower() not in sw])\n",
        "\n",
        "# def clean_text(txt):\n",
        "#     '''\n",
        "#     This function will clean the text being passed by removing specific line feed characters\n",
        "#     like '\\n', '\\r', and '\\'\n",
        "#     '''\n",
        "    \n",
        "#     txt = txt.replace('\\n', ' ').replace('\\r', ' ').replace('\\'', '')\n",
        "#     txt = remove_punctuations(txt)\n",
        "#     txt = remove_stopwords(txt)\n",
        "#     return txt.lower()\n",
        "  \n",
        "# user_article = clean_text(user_article) \n",
        "# for tag, content in tag_content.items():\n",
        "#     tag_content[tag] = clean_text(content)"
      ],
      "metadata": {
        "id": "t5nqYi47sMyO"
      },
      "execution_count": 96,
      "outputs": []
    },
    {
      "cell_type": "code",
      "source": [],
      "metadata": {
        "id": "WR0L1KYPsW9A"
      },
      "execution_count": 96,
      "outputs": []
    },
    {
      "cell_type": "code",
      "source": [
        "\n",
        "print(user_article)\n",
        "\n",
        "for i in range(len(content)) : \n",
        "\n",
        "  dist = lev.distance(user_article, content[i])\n",
        "  print(dist,\" \",content[i])"
      ],
      "metadata": {
        "colab": {
          "base_uri": "https://localhost:8080/"
        },
        "id": "z1EPXjTetDk7",
        "outputId": "03202026-4c20-4352-e077-be781956dc8b"
      },
      "execution_count": 97,
      "outputs": [
        {
          "output_type": "stream",
          "name": "stdout",
          "text": [
            "who was the most powerful king of the mughal empire?\n",
            "73   the starting of the mughal empire was done by aurengzab, who went on to become the most powerful king of the mughal empire\n",
            "12   Arun was the second most powerful king of the mughal empire\n",
            "40   aurengzeb was know to be generous\n",
            "46   aurengzeb was loved by the people , even though he was a king\n",
            "41   i don't know what this man aurzegen is\n",
            "37   there is nothing more to do thaan diea\n",
            "42   ayooo nothing is working\n"
          ]
        }
      ]
    },
    {
      "cell_type": "code",
      "source": [],
      "metadata": {
        "id": "DBHpJ3K3teEX"
      },
      "execution_count": 97,
      "outputs": []
    },
    {
      "cell_type": "code",
      "source": [],
      "metadata": {
        "id": "iv0-z3RItqtr"
      },
      "execution_count": 97,
      "outputs": []
    },
    {
      "cell_type": "code",
      "source": [],
      "metadata": {
        "id": "qKsx9aZgzGy5"
      },
      "execution_count": 97,
      "outputs": []
    }
  ]
}