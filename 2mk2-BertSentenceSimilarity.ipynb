{
 "cells": [
  {
   "cell_type": "code",
   "execution_count": 61,
   "metadata": {},
   "outputs": [],
   "source": [
    "sentences  = [ \"Three years later the coffin was full of jello\", \n",
    "                \"There is not time to fill the coffin of jello\",\n",
    "               ]\n",
    "\n",
    "\n",
    "\n",
    "model_name = 'bert-base-nli-mean-tokens'"
   ]
  },
  {
   "cell_type": "code",
   "execution_count": 62,
   "metadata": {},
   "outputs": [],
   "source": [
    "from sentence_transformers import SentenceTransformer\n"
   ]
  },
  {
   "cell_type": "code",
   "execution_count": 63,
   "metadata": {},
   "outputs": [],
   "source": [
    "model =  SentenceTransformer(model_name)"
   ]
  },
  {
   "cell_type": "code",
   "execution_count": 64,
   "metadata": {},
   "outputs": [],
   "source": [
    "sentence_vectors = model.encode(sentences)"
   ]
  },
  {
   "cell_type": "code",
   "execution_count": 65,
   "metadata": {},
   "outputs": [
    {
     "data": {
      "text/plain": [
       "numpy.ndarray"
      ]
     },
     "execution_count": 65,
     "metadata": {},
     "output_type": "execute_result"
    }
   ],
   "source": [
    "sentence_vectors\n",
    "type(sentence_vectors)"
   ]
  },
  {
   "cell_type": "code",
   "execution_count": 66,
   "metadata": {},
   "outputs": [
    {
     "data": {
      "text/plain": [
       "(2, 768)"
      ]
     },
     "execution_count": 66,
     "metadata": {},
     "output_type": "execute_result"
    }
   ],
   "source": [
    "sentence_vectors.shape"
   ]
  },
  {
   "cell_type": "code",
   "execution_count": 67,
   "metadata": {},
   "outputs": [],
   "source": [
    "from sklearn.metrics.pairwise import cosine_similarity"
   ]
  },
  {
   "cell_type": "code",
   "execution_count": 68,
   "metadata": {},
   "outputs": [
    {
     "data": {
      "text/plain": [
       "array([[0.5735097]], dtype=float32)"
      ]
     },
     "execution_count": 68,
     "metadata": {},
     "output_type": "execute_result"
    }
   ],
   "source": [
    "cosine_similarity(\n",
    "    [sentence_vectors[0]],sentence_vectors[1:]\n",
    ")\n",
    "\n",
    "\n"
   ]
  },
  {
   "cell_type": "code",
   "execution_count": 75,
   "metadata": {},
   "outputs": [
    {
     "data": {
      "text/plain": [
       "numpy.ndarray"
      ]
     },
     "execution_count": 75,
     "metadata": {},
     "output_type": "execute_result"
    }
   ],
   "source": [
    "sentence_vectors\n",
    "type(sentence_vectors)\n"
   ]
  },
  {
   "cell_type": "code",
   "execution_count": 87,
   "metadata": {},
   "outputs": [
    {
     "data": {
      "text/plain": [
       "1"
      ]
     },
     "execution_count": 87,
     "metadata": {},
     "output_type": "execute_result"
    }
   ],
   "source": [
    "a = (sentence_vectors[0])\n",
    "b = sentence_vectors[1]\n",
    "\n",
    "\n",
    "a.ndim"
   ]
  },
  {
   "attachments": {},
   "cell_type": "markdown",
   "metadata": {},
   "source": [
    "## Difference Between Arrays "
   ]
  },
  {
   "cell_type": "code",
   "execution_count": 90,
   "metadata": {},
   "outputs": [
    {
     "data": {
      "text/plain": [
       "array([-3.56171668e-01, -7.18489170e-01, -1.08557177e+00, -5.05117476e-01,\n",
       "       -2.98727807e-02, -7.01191425e-01, -1.31330860e+00,  3.86212826e-01,\n",
       "       -6.07984781e-01,  3.26896936e-01,  7.27109313e-01, -3.01190078e-01,\n",
       "        4.46431637e-02, -1.94023728e-01, -2.87893862e-01,  2.60072500e-02,\n",
       "       -6.46616876e-01,  4.75183159e-01,  5.08295953e-01, -2.48794496e-01,\n",
       "        2.67797172e-01,  2.31641531e-02, -4.09567297e-01, -2.31417298e-01,\n",
       "       -1.54651165e-01,  6.43337131e-01,  8.36576700e-01, -5.24373174e-01,\n",
       "        9.27305222e-02, -2.34248728e-01, -3.10990453e-01,  1.34193465e-01,\n",
       "       -2.60794818e-01,  4.55527306e-01, -1.16423714e+00, -9.41239893e-02,\n",
       "       -5.81038594e-01,  2.12777555e-01, -2.78447717e-01,  1.01005256e+00,\n",
       "        4.54666167e-01, -3.65853012e-01,  3.51095289e-01, -9.69526470e-02,\n",
       "       -6.33364737e-01, -4.86982048e-01, -9.05038655e-01,  6.38033152e-01,\n",
       "       -2.23774523e-01,  3.11187059e-01,  1.38875902e-01, -1.34814546e-01,\n",
       "       -1.34055340e+00, -4.60231036e-01, -3.07945549e-01, -2.92595804e-01,\n",
       "        1.79388136e-01,  5.40504217e-01, -8.45237970e-02,  2.81713009e-02,\n",
       "        1.17973042e+00, -1.43825561e-01, -7.37912357e-02,  2.70217657e-02,\n",
       "        1.11160409e+00,  1.51048064e-01, -5.67115545e-02,  6.56205356e-01,\n",
       "       -1.24188542e-01,  9.44018006e-01, -2.52922267e-01, -6.06302381e-01,\n",
       "        2.01090440e-01, -2.99482465e-01,  8.00694227e-01,  3.65113437e-01,\n",
       "       -4.78366226e-01,  4.67406601e-01, -6.76022410e-01, -2.06578180e-01,\n",
       "        4.19590831e-01,  2.63027102e-01,  6.09262586e-02,  5.43282926e-01,\n",
       "        1.67621732e-01,  3.33646417e-01, -1.67746395e-01, -4.98611867e-01,\n",
       "       -3.49858791e-01,  8.32655430e-01,  8.52800250e-01, -1.71338439e-01,\n",
       "        1.02031410e+00,  5.62696993e-01,  3.42548370e-01, -6.36646509e-01,\n",
       "        6.69336691e-02, -5.63861966e-01,  9.56753343e-02, -5.82348347e-01,\n",
       "       -1.22901344e+00,  1.56230271e-01, -6.90597534e-01,  8.57677221e-01,\n",
       "       -1.84083760e-01,  2.04495728e-01, -6.11641169e-01, -6.25589967e-01,\n",
       "        6.06283247e-02,  1.54079497e-03,  4.20038164e-01, -1.99875891e-01,\n",
       "        1.29578382e-01,  6.59339130e-01,  3.78412604e-01,  1.28738075e-01,\n",
       "        8.60413849e-01,  5.68257451e-01,  2.34890774e-01,  8.56240094e-02,\n",
       "       -3.12467992e-01, -2.44697988e-01, -3.25821280e-01, -2.30387211e-01,\n",
       "        4.46110100e-01,  3.96856666e-01,  4.42734450e-01,  4.26062942e-01,\n",
       "        4.29527938e-01,  1.96412057e-02, -2.96457022e-01, -1.15277231e-01,\n",
       "        6.44417405e-01,  3.58482331e-01, -7.26176858e-01,  3.64331365e-01,\n",
       "        2.54150599e-01, -2.09748477e-01, -7.58776665e-01, -8.69409084e-01,\n",
       "        2.77249813e-02,  4.70500261e-01, -1.06562531e+00,  3.81052285e-01,\n",
       "       -6.51535988e-01, -1.01073772e-01, -5.76228917e-01,  9.94838923e-02,\n",
       "       -5.56434095e-01,  8.49670529e-01, -5.13778925e-02,  3.54709357e-01,\n",
       "        1.31277978e-01, -4.53622073e-01,  2.68111587e-01,  2.31001377e-02,\n",
       "       -1.07652867e+00, -3.60525548e-01,  3.96768659e-01, -7.42548555e-02,\n",
       "        6.77049696e-01,  8.22278321e-01,  5.17224550e-01, -1.57602161e-01,\n",
       "        2.96924889e-01, -1.66579485e-02, -4.24898982e-01, -8.13340068e-01,\n",
       "       -5.88894546e-01,  1.24835998e-01, -3.71829569e-01,  1.76259905e-01,\n",
       "        6.95429802e-01,  7.51895607e-02, -2.61269510e-01, -4.79884118e-01,\n",
       "        2.94768810e-03, -2.45213211e-02, -1.48741215e-01, -5.36672831e-01,\n",
       "        2.68785477e-01, -4.82828140e-01, -4.78966951e-01,  7.69936919e-01,\n",
       "        4.08649474e-01,  5.11332631e-01,  2.22166419e-01,  2.10682034e-01,\n",
       "        6.21450841e-01,  1.23081423e-01,  8.05871844e-01,  3.27028334e-01,\n",
       "       -1.33690321e+00, -2.68506020e-01,  2.21972764e-02,  2.02171564e-01,\n",
       "        6.63711131e-03,  2.08597630e-01,  7.38991618e-01, -5.20474195e-01,\n",
       "       -3.31756443e-01,  3.27555537e-01,  4.94678825e-01,  2.36049801e-01,\n",
       "        4.97236639e-01, -6.82781339e-02,  2.17474401e-02,  3.76608193e-01,\n",
       "       -2.51813829e-01,  5.99660516e-01,  2.52494156e-01,  4.09978628e-02,\n",
       "        1.40522778e-01, -1.56629816e-01,  2.58813381e-01,  6.26825452e-01,\n",
       "       -1.68716908e-03,  1.03527403e+00, -5.64349651e-01,  5.57809770e-01,\n",
       "        1.95530921e-01,  2.32100189e-02, -7.49132872e-01, -6.13987260e-02,\n",
       "        2.29968429e-01, -2.41530299e-01, -1.40818000e-01, -7.77541935e-01,\n",
       "       -1.70550629e-01, -3.86468172e-01,  1.73257828e-01, -3.91917616e-01,\n",
       "        9.26983237e-01,  8.26989770e-01,  7.30437160e-01,  7.67532289e-01,\n",
       "       -5.57323337e-01,  5.24605811e-02, -4.20693964e-01,  1.43654048e-01,\n",
       "        1.15907848e+00,  3.64299715e-01,  9.76300240e-03, -4.23889458e-01,\n",
       "       -3.39114517e-01, -4.89240512e-02,  4.78120863e-01,  9.78791833e-01,\n",
       "       -7.38116562e-01,  1.80170685e-02,  1.31279528e-01,  4.45174426e-01,\n",
       "        4.12179455e-02, -2.05365539e-01, -2.52154231e-01,  1.55009866e-01,\n",
       "       -5.27719557e-01,  7.53636837e-01, -3.03474665e-01, -2.62068868e-01,\n",
       "       -1.87258899e-01, -1.14530659e+00,  9.70588505e-01,  4.87500131e-01,\n",
       "        2.93644488e-01,  1.23045683e+00, -1.57673553e-01,  9.14805084e-02,\n",
       "        6.08660996e-01,  1.90139234e-01, -3.58556926e-01, -1.98185205e-01,\n",
       "        9.22411680e-02, -7.45909810e-02,  5.03942013e-01, -2.16294289e-01,\n",
       "       -5.44124767e-02,  1.87936231e-01, -8.07939589e-01,  3.31905186e-02,\n",
       "       -4.94205058e-01,  5.77490330e-02,  6.53039992e-01,  1.28437966e-01,\n",
       "        7.52088428e-02, -1.36845374e+00, -2.00990096e-01,  6.53918147e-01,\n",
       "        4.56678271e-01,  6.84416294e-03,  5.40263712e-01,  3.04924130e-01,\n",
       "        2.73988962e-01, -7.44607508e-01, -1.14494753e+00, -3.77402097e-01,\n",
       "        2.19790801e-01,  1.13780534e+00,  2.51583636e-01,  7.92167962e-01,\n",
       "        4.55024481e-01, -4.37085807e-01, -5.59602261e-01,  7.51047134e-02,\n",
       "        1.08756292e+00, -1.85058847e-01,  2.31361285e-01,  4.54109967e-01,\n",
       "        5.39529324e-03, -1.28765857e+00,  2.86711991e-01, -3.52957129e-01,\n",
       "        1.11317229e+00,  4.98826027e-01, -6.33493423e-01,  2.25341529e-01,\n",
       "       -5.31571627e-01,  9.17169213e-01,  8.15781593e-01,  7.03299046e-03,\n",
       "       -4.98594582e-01, -5.27441502e-03,  2.98850119e-01, -1.95163950e-01,\n",
       "       -3.99086237e-01,  9.60920155e-02, -9.63009447e-02,  3.00035685e-01,\n",
       "       -5.52636981e-02,  5.52082419e-01, -8.39998364e-01,  4.63236451e-01,\n",
       "       -5.47163606e-01,  3.01027477e-01, -2.11977571e-01, -3.58595848e-02,\n",
       "        1.22351348e-01,  2.79892027e-01,  3.77718478e-01,  1.86757237e-01,\n",
       "        2.47810692e-01,  6.19738102e-01, -2.93315291e-01, -5.30234158e-01,\n",
       "       -9.97795761e-02,  8.80122602e-01,  5.10109425e-01, -1.86796486e-01,\n",
       "        2.86124885e-01,  1.92155510e-01, -1.18582726e+00, -9.23629820e-01,\n",
       "        9.33267415e-01, -3.21721703e-01, -1.54078901e-01,  4.90104139e-01,\n",
       "        2.28642076e-01, -6.32827520e-01,  1.68965161e-02,  3.14712003e-02,\n",
       "       -7.07009137e-01,  4.26787198e-01,  5.04457712e-01, -3.61708999e-02,\n",
       "       -4.63594556e-01,  6.47628188e-01, -5.23100734e-01, -6.25717938e-01,\n",
       "       -3.69537503e-01,  3.28777999e-01,  1.98473349e-01,  4.15841281e-01,\n",
       "       -1.01767302e+00, -1.23244599e-01, -3.50232631e-01, -2.96861589e-01,\n",
       "        3.06594849e-01, -2.87357569e-01,  4.04354215e-01,  6.87513411e-01,\n",
       "        3.56131822e-01, -1.29685193e-01,  2.53045499e-01,  2.32203752e-01,\n",
       "       -7.55538106e-01, -4.55322206e-01, -9.82381701e-02,  6.30002618e-02,\n",
       "       -6.51137233e-02, -3.64772260e-01,  3.57998252e-01,  8.27733040e-01,\n",
       "       -3.96953791e-01, -3.54446769e-02, -3.81544948e-01,  3.91197056e-01,\n",
       "        2.68721342e-01, -9.53925550e-01, -2.76785493e-01, -3.72232676e-01,\n",
       "        2.22509146e-01,  1.25441480e+00, -1.02301753e+00,  1.59795284e-02,\n",
       "       -7.96020031e-03, -2.11039424e-01,  6.76279306e-01, -3.35646868e-02,\n",
       "        4.10711110e-01, -1.33301926e+00, -7.81693161e-01, -4.27167207e-01,\n",
       "        5.74384451e-01, -4.74780768e-01, -8.43918771e-02, -3.96364927e-02,\n",
       "        1.70394868e-01,  8.37432742e-01,  1.36593208e-01,  2.58469582e-01,\n",
       "        7.89550066e-01, -2.78847575e-01,  1.27253127e+00,  1.21276341e-02,\n",
       "       -3.26235056e-01, -9.77527440e-01, -4.90299881e-01,  6.10565484e-01,\n",
       "       -1.09767839e-01, -6.49417639e-01, -5.02290785e-01,  3.49083751e-01,\n",
       "        1.24958158e-01, -5.67719102e-01,  9.36381161e-01, -1.81710795e-01,\n",
       "        4.58655894e-01, -4.45589423e-01, -2.91467369e-01, -7.06415117e-01,\n",
       "       -7.85760060e-02,  9.90119874e-02,  7.24074006e-01,  1.86333537e-01,\n",
       "       -3.92001867e-01,  2.89882928e-01,  7.40551054e-01, -1.01142198e-01,\n",
       "       -2.92214632e-01,  1.39778525e-01,  1.21263057e-01,  8.82552743e-01,\n",
       "       -5.25113761e-01, -3.09046447e-01, -5.46233892e-01, -7.64646769e-01,\n",
       "        3.08050483e-01, -7.34944105e-01, -7.11969018e-01,  1.03729613e-01,\n",
       "       -1.27944022e-01,  3.34869236e-01,  2.89746583e-01,  7.38544762e-02,\n",
       "        5.89155793e-01,  1.18513942e+00, -9.39088538e-02,  4.65993285e-01,\n",
       "        2.95234531e-01,  4.76792902e-01, -6.13851249e-01,  3.22796255e-01,\n",
       "        1.93256140e-01, -8.32944512e-02,  1.11946329e-01,  8.93471658e-01,\n",
       "        1.34411335e+00,  3.02032560e-01, -5.16553879e-01, -1.79479122e-02,\n",
       "        5.45048356e-01,  2.92469352e-01,  4.44092661e-01,  2.33919048e+00,\n",
       "       -1.41542882e-01,  3.36639374e-01,  2.77978033e-02, -1.41635835e-01,\n",
       "       -3.50818098e-01,  5.86284697e-01, -4.89407182e-01,  5.29698014e-01,\n",
       "        4.13898826e-02,  6.56552911e-01, -2.78743744e-01,  2.06489399e-01,\n",
       "       -2.13895321e-01, -5.42482734e-01,  1.57505676e-01,  3.97434026e-01,\n",
       "       -1.31709635e-01,  1.15706134e+00, -4.65888053e-01, -8.44387174e-01,\n",
       "       -1.70203224e-01, -4.78876054e-01,  3.33394408e-01, -7.59241700e-01,\n",
       "       -4.74473238e-02, -1.78675145e-01,  2.76329219e-01, -5.67311883e-01,\n",
       "        1.51883721e-01,  1.07541412e-01, -1.85478002e-01,  1.22498560e+00,\n",
       "       -5.61398454e-02, -3.87100995e-01,  1.63724542e-01, -9.26530600e-01,\n",
       "        2.30342001e-01, -3.84018242e-01,  1.38778865e-01, -9.04878378e-01,\n",
       "       -6.86090291e-02, -9.51030552e-01,  1.05878162e+00, -3.41880620e-02,\n",
       "       -8.52653265e-01, -2.56364882e-01, -2.21765816e-01, -1.02320760e-02,\n",
       "       -7.16547072e-02, -1.23225808e-01, -4.50033754e-01, -4.19099987e-01,\n",
       "        3.42352450e-01, -7.01265872e-01,  1.19784427e+00,  7.84866929e-01,\n",
       "        4.42652106e-01, -1.68982089e-01, -1.23796368e+00,  2.58318543e-01,\n",
       "       -2.86394089e-01,  4.56579208e-01, -5.01550674e-01, -5.81203401e-01,\n",
       "        2.21274197e-02, -3.18512380e-01,  7.45742619e-02,  9.32732224e-02,\n",
       "        7.42401540e-01, -1.65654764e-01, -1.98180586e-01,  5.49013734e-01,\n",
       "       -7.72457570e-02,  5.58737397e-01, -5.82486629e-01,  4.41349506e-01,\n",
       "        6.59096241e-01,  2.07749307e-02,  3.48497033e-01, -9.21864033e-01,\n",
       "        3.62722427e-02, -4.74782050e-01, -2.74926275e-01, -1.09593034e-01,\n",
       "       -5.66923201e-01,  6.33198440e-01, -3.29479575e-02,  3.84387165e-01,\n",
       "        7.07082927e-01,  4.77766246e-01,  1.72006518e-01,  3.94286931e-01,\n",
       "        7.84916580e-02,  5.40957153e-01, -8.87564242e-01, -1.21327221e-01,\n",
       "       -5.09386659e-01,  3.21344584e-01, -1.04529098e-01,  1.91837654e-01,\n",
       "       -4.84802127e-01, -6.30540788e-01,  3.57151777e-01,  7.39959776e-01,\n",
       "       -1.58095196e-01, -3.26506674e-01,  3.27494740e-03, -1.78731177e-02,\n",
       "        3.71566236e-01,  4.81824368e-01, -6.01624846e-01, -4.26470965e-01,\n",
       "       -1.56963125e-01,  8.19845378e-01,  6.38525039e-02,  1.68942735e-01,\n",
       "       -6.70715153e-01, -6.51147425e-01, -1.24658883e-01, -6.98890924e-01,\n",
       "       -6.96221292e-02, -1.05605721e-02, -4.76989001e-01,  7.58466959e-01,\n",
       "       -2.49997750e-01, -8.36269557e-01, -3.65668774e-01,  1.01254284e-01,\n",
       "       -9.47779536e-01, -9.73060280e-02,  7.59314358e-01,  1.25301003e-01,\n",
       "        1.45830417e+00,  5.60836673e-01,  1.03243709e-01, -8.74260068e-01,\n",
       "       -2.59529203e-01, -9.85412300e-02, -4.68050301e-01, -4.29304719e-01,\n",
       "        9.78384614e-01,  5.33283949e-02,  3.35313380e-01,  2.12755978e-01,\n",
       "        3.28824610e-01, -4.82289314e-01,  2.47605532e-01,  2.33307853e-01,\n",
       "       -1.24612391e-01, -5.89943707e-01, -1.87552363e-01,  1.18340611e-01,\n",
       "       -4.84965622e-01, -3.26935381e-01,  6.42790914e-01,  9.21803713e-03,\n",
       "       -2.89392799e-01, -2.52223313e-01, -5.58240831e-01, -9.61129069e-01,\n",
       "       -5.35022616e-01,  1.29205883e-01,  3.31459641e-01,  3.57447863e-02,\n",
       "        5.83817422e-01, -3.04433703e-02, -2.05135494e-01, -1.90244317e-02,\n",
       "        2.52755105e-01, -2.40129352e-01,  4.19944763e-01, -4.10048515e-01,\n",
       "        4.22355294e-01, -1.69947743e-02, -1.02686405e-01,  6.21587276e-01,\n",
       "        1.22241616e-01,  4.82334554e-01,  9.70292270e-01,  6.15431309e-01,\n",
       "        1.70909524e-01, -7.80917287e-01, -7.84357011e-01, -3.08354467e-01,\n",
       "       -2.96295792e-01, -1.01973307e+00, -7.25795984e-01,  4.18394566e-01,\n",
       "        8.20509493e-01, -8.53466019e-02,  1.09363385e-01, -4.36569780e-01,\n",
       "       -7.38922596e-01,  3.47922206e-01,  4.75864708e-01, -6.89871311e-01,\n",
       "       -7.46686280e-01, -4.41636771e-01,  6.68481350e-01,  5.78949749e-01,\n",
       "       -8.63764107e-01, -2.48004630e-01, -1.38590157e-01, -5.25520444e-01,\n",
       "        4.53803360e-01, -1.03466749e-01, -5.58665752e-01, -1.57314360e-01,\n",
       "        3.27990353e-01,  2.58792698e-01,  8.42089534e-01,  7.18034208e-01,\n",
       "       -1.01231956e+00, -7.08302319e-01,  8.74184310e-01, -2.84568965e-01,\n",
       "        3.40643466e-01, -1.48538336e-01, -4.25628424e-02, -1.62045389e-01,\n",
       "        7.53008127e-02,  1.62881106e-01, -4.07336563e-01, -3.25169146e-01,\n",
       "       -6.51258528e-01,  1.04206622e-01, -2.60537654e-01, -1.18760943e+00,\n",
       "       -4.60331082e-01,  5.24882555e-01, -6.71870828e-01,  1.39436290e-01,\n",
       "       -3.86535525e-01,  2.20693678e-01,  1.89193994e-01,  1.17469311e-01,\n",
       "        4.03746098e-01, -2.03116938e-01, -3.01032782e-01, -3.77259076e-01,\n",
       "       -3.71345162e-01, -9.78373766e-01,  8.48861575e-01,  1.46402419e+00,\n",
       "       -8.43683660e-01,  2.36804307e-01, -5.35940528e-01, -5.79252124e-01,\n",
       "        3.23715627e-01,  1.98238343e-01, -5.77645659e-01, -1.96353734e-01,\n",
       "       -1.64355263e-01, -4.24196392e-01,  4.63175178e-02, -8.94871235e-01,\n",
       "       -3.47043633e-01, -8.39853346e-01, -8.95819426e-01, -6.32795453e-01,\n",
       "       -8.58867347e-01, -9.06455144e-02, -4.13692087e-01,  2.46457458e-01,\n",
       "       -4.53970492e-01,  5.60867190e-02, -8.28586221e-01, -1.09560585e+00,\n",
       "        4.90396321e-02,  1.00581884e+00, -4.27303195e-01,  4.85365093e-02,\n",
       "        9.16943491e-01,  5.85316122e-03,  3.00251186e-01, -4.56318885e-01,\n",
       "       -1.26282871e+00,  1.23830843e+00,  7.42796183e-01,  7.40804076e-01,\n",
       "        3.90137106e-01, -1.56257451e-01,  1.49312735e+00,  6.93014264e-02],\n",
       "      dtype=float32)"
      ]
     },
     "execution_count": 90,
     "metadata": {},
     "output_type": "execute_result"
    }
   ],
   "source": [
    "\n",
    "a-b \n"
   ]
  },
  {
   "attachments": {},
   "cell_type": "markdown",
   "metadata": {},
   "source": [
    "## Comparison "
   ]
  },
  {
   "cell_type": "code",
   "execution_count": 91,
   "metadata": {},
   "outputs": [
    {
     "data": {
      "text/plain": [
       "array([ True,  True,  True,  True,  True,  True,  True, False,  True,\n",
       "       False, False,  True, False,  True,  True, False,  True, False,\n",
       "       False,  True, False, False,  True,  True,  True, False, False,\n",
       "        True, False,  True,  True, False,  True, False,  True,  True,\n",
       "        True, False,  True, False, False,  True, False,  True,  True,\n",
       "        True,  True, False,  True, False, False,  True,  True,  True,\n",
       "        True,  True, False, False,  True, False, False,  True,  True,\n",
       "       False, False, False,  True, False,  True, False,  True,  True,\n",
       "       False,  True, False, False,  True, False,  True,  True, False,\n",
       "       False, False, False, False, False,  True,  True,  True, False,\n",
       "       False,  True, False, False, False,  True, False,  True, False,\n",
       "        True,  True, False,  True, False,  True, False,  True,  True,\n",
       "       False, False, False,  True, False, False, False, False, False,\n",
       "       False, False, False,  True,  True,  True,  True, False, False,\n",
       "       False, False, False, False,  True,  True, False, False,  True,\n",
       "       False, False,  True,  True,  True, False, False,  True, False,\n",
       "        True,  True,  True, False,  True, False,  True, False, False,\n",
       "        True, False, False,  True,  True, False,  True, False, False,\n",
       "       False,  True, False,  True,  True,  True,  True, False,  True,\n",
       "       False, False, False,  True,  True, False,  True,  True,  True,\n",
       "       False,  True,  True, False, False, False, False, False, False,\n",
       "       False, False, False,  True,  True, False, False, False, False,\n",
       "       False,  True,  True, False, False, False, False,  True, False,\n",
       "       False,  True, False, False, False, False,  True, False, False,\n",
       "        True, False,  True, False, False, False,  True,  True, False,\n",
       "        True,  True,  True,  True,  True, False,  True, False, False,\n",
       "       False, False,  True, False,  True, False, False, False, False,\n",
       "        True,  True,  True, False, False,  True, False, False, False,\n",
       "       False,  True,  True, False,  True, False,  True,  True,  True,\n",
       "        True, False, False, False, False,  True, False, False, False,\n",
       "        True,  True, False,  True, False,  True,  True, False,  True,\n",
       "       False,  True, False, False, False, False,  True,  True, False,\n",
       "       False, False, False, False, False,  True,  True,  True, False,\n",
       "       False, False, False, False,  True,  True, False, False,  True,\n",
       "       False, False, False,  True, False,  True, False, False,  True,\n",
       "       False,  True, False, False, False,  True,  True, False,  True,\n",
       "        True, False,  True, False,  True, False,  True, False,  True,\n",
       "       False,  True,  True, False, False, False, False, False, False,\n",
       "        True,  True,  True, False, False,  True, False, False,  True,\n",
       "        True, False,  True,  True, False, False,  True, False, False,\n",
       "        True, False, False,  True,  True, False,  True,  True,  True,\n",
       "       False, False, False,  True,  True,  True,  True, False,  True,\n",
       "       False, False, False,  True, False, False,  True,  True,  True,\n",
       "       False,  True,  True, False, False,  True,  True,  True, False,\n",
       "       False,  True,  True,  True, False, False,  True, False,  True,\n",
       "        True, False,  True, False,  True,  True,  True, False,  True,\n",
       "        True,  True, False, False, False, False, False,  True, False,\n",
       "       False,  True,  True,  True, False,  True,  True,  True, False,\n",
       "       False,  True, False,  True, False,  True,  True,  True,  True,\n",
       "       False, False, False,  True, False, False,  True,  True, False,\n",
       "       False, False,  True,  True,  True,  True, False,  True,  True,\n",
       "       False,  True, False, False, False, False, False,  True, False,\n",
       "       False, False,  True, False, False,  True, False, False, False,\n",
       "       False,  True,  True, False, False, False, False,  True, False,\n",
       "       False,  True,  True, False,  True, False, False, False,  True,\n",
       "       False,  True,  True, False, False,  True, False,  True,  True,\n",
       "        True,  True, False,  True,  True,  True, False,  True, False,\n",
       "       False,  True, False,  True,  True, False,  True, False,  True,\n",
       "       False,  True,  True,  True, False,  True,  True,  True,  True,\n",
       "        True,  True,  True,  True,  True, False,  True, False, False,\n",
       "       False,  True,  True, False,  True, False,  True,  True, False,\n",
       "        True, False, False, False,  True,  True, False,  True, False,\n",
       "        True, False, False, False, False,  True, False,  True,  True,\n",
       "        True,  True, False,  True, False, False, False, False, False,\n",
       "       False, False,  True,  True,  True, False,  True, False,  True,\n",
       "        True, False, False,  True,  True, False,  True, False, False,\n",
       "        True,  True,  True, False, False, False,  True,  True,  True,\n",
       "        True,  True,  True,  True, False,  True,  True,  True, False,\n",
       "        True,  True, False, False, False, False, False,  True,  True,\n",
       "        True,  True,  True, False, False, False, False, False,  True,\n",
       "       False, False,  True,  True,  True, False,  True,  True, False,\n",
       "       False,  True,  True,  True,  True,  True, False, False, False,\n",
       "       False,  True,  True,  True, False,  True, False,  True, False,\n",
       "        True,  True, False, False, False, False, False, False,  True,\n",
       "        True,  True,  True,  True,  True, False, False,  True, False,\n",
       "        True,  True, False, False,  True,  True,  True, False, False,\n",
       "        True,  True,  True,  True, False,  True,  True,  True, False,\n",
       "       False, False, False,  True,  True, False,  True, False,  True,\n",
       "        True,  True, False, False,  True,  True,  True, False,  True,\n",
       "        True,  True, False,  True, False,  True, False, False, False,\n",
       "       False,  True,  True,  True,  True,  True, False, False,  True,\n",
       "       False,  True,  True, False, False,  True,  True,  True,  True,\n",
       "       False,  True,  True,  True,  True,  True,  True,  True,  True,\n",
       "       False,  True, False,  True,  True, False, False,  True, False,\n",
       "       False, False, False,  True,  True, False, False, False, False,\n",
       "        True, False, False])"
      ]
     },
     "execution_count": 91,
     "metadata": {},
     "output_type": "execute_result"
    }
   ],
   "source": [
    "a > b \n",
    "a < b "
   ]
  },
  {
   "attachments": {},
   "cell_type": "markdown",
   "metadata": {},
   "source": [
    "## Similarity\n",
    "I am using cosine similiarty since we have a 1 dimentional array. "
   ]
  },
  {
   "cell_type": "code",
   "execution_count": 94,
   "metadata": {},
   "outputs": [
    {
     "name": "stdout",
     "output_type": "stream",
     "text": [
      "Dimention Of Array:  1   1\n"
     ]
    }
   ],
   "source": [
    "print(\"Dimention Of Array: \" , a.ndim  , \" \", b.ndim)"
   ]
  },
  {
   "cell_type": "code",
   "execution_count": 95,
   "metadata": {},
   "outputs": [],
   "source": [
    "from numpy import dot\n",
    "from numpy.linalg import norm\n"
   ]
  },
  {
   "cell_type": "code",
   "execution_count": 97,
   "metadata": {},
   "outputs": [
    {
     "name": "stdout",
     "output_type": "stream",
     "text": [
      "0.57350963\n"
     ]
    }
   ],
   "source": [
    "cos_sim = dot(a, b)/(norm(a)*norm(b))\n",
    "\n",
    "print(cos_sim)\n"
   ]
  },
  {
   "cell_type": "code",
   "execution_count": null,
   "metadata": {},
   "outputs": [],
   "source": []
  }
 ],
 "metadata": {
  "kernelspec": {
   "display_name": "Python 3",
   "language": "python",
   "name": "python3"
  },
  "language_info": {
   "codemirror_mode": {
    "name": "ipython",
    "version": 3
   },
   "file_extension": ".py",
   "mimetype": "text/x-python",
   "name": "python",
   "nbconvert_exporter": "python",
   "pygments_lexer": "ipython3",
   "version": "3.10.6"
  },
  "orig_nbformat": 4,
  "vscode": {
   "interpreter": {
    "hash": "916dbcbb3f70747c44a77c7bcd40155683ae19c65e1c03b4aa3499c5328201f1"
   }
  }
 },
 "nbformat": 4,
 "nbformat_minor": 2
}
